{
  "nbformat": 4,
  "nbformat_minor": 0,
  "metadata": {
    "colab": {
      "name": "neural-nets linear.ipynb",
      "provenance": [],
      "authorship_tag": "ABX9TyMVmc6m5Z+7X/iZ2h99Vw3U",
      "include_colab_link": true
    },
    "kernelspec": {
      "name": "python3",
      "display_name": "Python 3"
    }
  },
  "cells": [
    {
      "cell_type": "markdown",
      "metadata": {
        "id": "view-in-github",
        "colab_type": "text"
      },
      "source": [
        "<a href=\"https://colab.research.google.com/github/anshita22/deep-learning/blob/main/neural_nets_linear.ipynb\" target=\"_parent\"><img src=\"https://colab.research.google.com/assets/colab-badge.svg\" alt=\"Open In Colab\"/></a>"
      ]
    },
    {
      "cell_type": "code",
      "metadata": {
        "id": "oxPgOb2yJmgE"
      },
      "source": [
        "import tensorflow as tf\r\n",
        "from tensorflow import keras\r\n",
        "import numpy as np\r\n",
        "import pandas as pd"
      ],
      "execution_count": 1,
      "outputs": []
    },
    {
      "cell_type": "code",
      "metadata": {
        "colab": {
          "base_uri": "https://localhost:8080/"
        },
        "id": "Z3R3dyq5Vrfl",
        "outputId": "1fa7cfb0-0ffb-410a-d639-b82ac0e72221"
      },
      "source": [
        "train_df = pd.read_csv('train.csv')\r\n",
        "#shuffle training data\r\n",
        "np.random.shuffle(train_df.values)\r\n",
        "\r\n",
        "print(train_df.head())\r\n",
        "\r\n",
        "model = keras.Sequential([\r\n",
        "\tkeras.layers.Dense(4, input_shape=(2,), activation='relu'),\r\n",
        "\tkeras.layers.Dense(2, activation='sigmoid')])\r\n",
        "\r\n",
        "model.compile(optimizer='adam', \r\n",
        "\t          loss=keras.losses.SparseCategoricalCrossentropy(from_logits=True),\r\n",
        "\t          metrics=['accuracy'])"
      ],
      "execution_count": 3,
      "outputs": [
        {
          "output_type": "stream",
          "text": [
            "          x         y  color\n",
            "0  2.347562  3.044598    0.0\n",
            "1  2.232450  1.288952    1.0\n",
            "2  1.428483  0.838607    1.0\n",
            "3  0.108201 -0.770657    1.0\n",
            "4  0.408574  1.428776    0.0\n"
          ],
          "name": "stdout"
        }
      ]
    },
    {
      "cell_type": "markdown",
      "metadata": {
        "id": "bzJu4EX3geKX"
      },
      "source": [
        "[tf.keras.losses.SparseCategoricalCrossentropy\r\n",
        "](https://www.tensorflow.org/api_docs/python/tf/keras/losses/SparseCategoricalCrossentropy)\r\n",
        "\r\n",
        "[logits](https://stackoverflow.com/questions/34240703/what-is-logits-softmax-and-softmax-cross-entropy-with-logits)"
      ]
    },
    {
      "cell_type": "code",
      "metadata": {
        "colab": {
          "base_uri": "https://localhost:8080/"
        },
        "id": "oMpi05xkhlOc",
        "outputId": "d0abe827-9f34-4a54-85e0-e95d6394213a"
      },
      "source": [
        "# stacking values in x column and y column\r\n",
        "x = np.column_stack((train_df.x.values, train_df.y.values))\r\n",
        "#model.fit = ([x], [y], [batch_size])\r\n",
        "model.fit(x, train_df.color.values, batch_size=4, epochs=5)\r\n",
        "\r\n"
      ],
      "execution_count": 7,
      "outputs": [
        {
          "output_type": "stream",
          "text": [
            "Epoch 1/5\n",
            "1000/1000 [==============================] - 1s 900us/step - loss: 6.8316e-04 - accuracy: 1.0000\n",
            "Epoch 2/5\n",
            "1000/1000 [==============================] - 1s 906us/step - loss: 5.8658e-04 - accuracy: 1.0000\n",
            "Epoch 3/5\n",
            "1000/1000 [==============================] - 1s 942us/step - loss: 5.3538e-04 - accuracy: 1.0000\n",
            "Epoch 4/5\n",
            "1000/1000 [==============================] - 1s 985us/step - loss: 4.5485e-04 - accuracy: 1.0000\n",
            "Epoch 5/5\n",
            "1000/1000 [==============================] - 1s 1ms/step - loss: 3.9565e-04 - accuracy: 1.0000\n"
          ],
          "name": "stdout"
        },
        {
          "output_type": "execute_result",
          "data": {
            "text/plain": [
              "<tensorflow.python.keras.callbacks.History at 0x7efd94142750>"
            ]
          },
          "metadata": {
            "tags": []
          },
          "execution_count": 7
        }
      ]
    },
    {
      "cell_type": "code",
      "metadata": {
        "id": "FGubjkGIugFB"
      },
      "source": [
        "\r\n",
        "test_df = pd.read_csv('test.csv')\r\n",
        "test_x = np.column_stack((test_df.x.values, test_df.y.values))\r\n",
        "\r\n",
        "print(\"EVALUATION\")\r\n",
        "model.evaluate(test_x, test_df.color.values)"
      ],
      "execution_count": null,
      "outputs": []
    },
    {
      "cell_type": "code",
      "metadata": {
        "colab": {
          "base_uri": "https://localhost:8080/"
        },
        "id": "AMzo0p-Agqfx",
        "outputId": "6dad88cc-949a-4972-e909-d428f02a0b37"
      },
      "source": [
        "print(x)"
      ],
      "execution_count": 6,
      "outputs": [
        {
          "output_type": "stream",
          "text": [
            "[[2.34756249 3.04459829]\n",
            " [2.23245016 1.28895217]\n",
            " [1.4284833  0.8386074 ]\n",
            " ...\n",
            " [2.45383053 1.27240078]\n",
            " [0.52692504 1.7503585 ]\n",
            " [2.19072914 3.38417189]]\n"
          ],
          "name": "stdout"
        }
      ]
    },
    {
      "cell_type": "code",
      "metadata": {
        "id": "UEROoZ17j9j2"
      },
      "source": [
        ""
      ],
      "execution_count": null,
      "outputs": []
    }
  ]
}